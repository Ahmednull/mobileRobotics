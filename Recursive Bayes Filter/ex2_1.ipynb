{
 "cells": [
  {
   "cell_type": "markdown",
   "metadata": {},
   "source": [
    "# Exercise 2.1\n",
    "\n",
    "---\n",
    "\n",
    "## Motion model\n",
    "\n",
    "Consider a robot that navigates in a **discrete 1D grid world** composed by 15 cells as the one illustrated below.\n",
    "\n",
    "![gridworld](./pics/1d_gridworld.png)\n",
    "\n",
    "In this world, the robot can move forward ($F$) or backward ($B$).\n",
    "\n",
    "Given a command, it moves according to the following motion model:\n",
    "\n",
    "- with probability **0.7**, it moves in the **correct direction** (i.e. $F\\rightarrow F, B\\rightarrow B$);\n",
    "- with probability **0.2** or if the command cannot be exectuted (e.g. end of the world!), it **does not move**;\n",
    "- with probability **0.1**, it moves in the **opposite direction** (i.e. $F\\rightarrow B, B\\rightarrow F$). \n",
    "\n",
    "The initial position of the robot is known and is at cell `7`."
   ]
  },
  {
   "cell_type": "code",
   "execution_count": 1,
   "metadata": {},
   "outputs": [
    {
     "data": {
      "image/png": "[encoded data removed]",
      "text/plain": [
       "<Figure size 432x288 with 2 Axes>"
      ]
     },
     "metadata": {
      "needs_background": "light"
     },
     "output_type": "display_data"
    }
   ],
   "source": [
    "from ex2_1 import *\n",
    "%matplotlib inline\n",
    "\n",
    "belief = np.zeros(15)\n",
    "\n",
    "# initial known position\n",
    "x_start = 7\n",
    "belief[x_start] = 1.0\n",
    "\n",
    "plot_belief(belief)"
   ]
  },
  {
   "cell_type": "markdown",
   "metadata": {},
   "source": [
    "The plots above shows the initial belief about the position of the robot both as weights in the grid world and as a histogram.\n",
    "\n",
    "1. **[4.0]** Implement the motion model (`motion_model`) and estimate recursively the belief about the position of the robot after executing the following sequence of commands: \n",
    "$$ F, F, F, F, B, B, F, F, B $$\n",
    "Plot the final belief using the `plot_belief` function."
   ]
  },
  {
   "cell_type": "code",
   "execution_count": 2,
   "metadata": {},
   "outputs": [
    {
     "data": {
      "image/png": "[encoded data removed]",
      "text/plain": [
       "<Figure size 432x288 with 2 Axes>"
      ]
     },
     "metadata": {
      "needs_background": "light"
     },
     "output_type": "display_data"
    }
   ],
   "source": [
    "commands =['F','F','F','F','B','B','F','F','B']\n",
    "belief_init = np.copy(belief)\n",
    "\n",
    "for cmd in commands :\n",
    "    belief = motion_model(belief,cmd)\n",
    "plot_belief(belief)"
   ]
  },
  {
   "cell_type": "markdown",
   "metadata": {},
   "source": [
    "---\n",
    "\n",
    "## Bayes filter\n",
    "\n",
    "Now, assume that we equipped the robot with a sensor which is able to recognize the color of the floor on which the robot navigates.\n",
    "\n",
    "The floor can be either black **(0)** or white **(1)** and the environment looks as follows:\n",
    "\n",
    "![gridworld_map](./pics/1d_gridworld_floor.png)\n",
    "\n",
    "The map of the floor colors is stored in `world.data`.\n",
    "\n",
    "The sensor is able to recognize that:\n",
    "\n",
    "- a tile is **white** with probability **0.7** \n",
    "- a tile is **black** with probability **0.9** \n",
    "\n",
    "The robot starts again in `7`. It executes the same commands as in 1. and follows the same motion model.\n",
    "\n",
    "During navigation, it makes the observations stored in `observations.data`.\n",
    "\n",
    "Thanks to its new sensor, it can now use the obrvations to estimate its position in the world.\n",
    "\n",
    "\n",
    "2. **[3.5]** Implement the function `sensor_model` which defines the sensor model and implement `recursive_bayes_filter` fucntion which estimates recursively the belief about the position of the robot incorporating the observations.\n",
    "Plot the final belief using the `plot_belief` function.\n",
    "\n",
    "3. **[0.5]** Print out the most likely position and the corresponding probability."
   ]
  },
  {
   "cell_type": "code",
   "execution_count": 6,
   "metadata": {},
   "outputs": [
    {
     "data": {
      "image/png": "[encoded data removed]",
      "text/plain": [
       "<Figure size 432x288 with 2 Axes>"
      ]
     },
     "metadata": {
      "needs_background": "light"
     },
     "output_type": "display_data"
    }
   ],
   "source": [
    "f1 = open(\"world.data\",\"r\")\n",
    "f2 = open(\"observations.data\",\"r\")\n",
    "world = np.array(f1.readlines()[0].split(','), dtype='int32')\n",
    "observations = np.array(f2.readlines()[0].split(','), dtype='int32')\n",
    "# for i in observations:\n",
    "#     belief_filtered = sensor_model(i, belief_init, world)\n",
    "\n",
    "belief_filtered = recursive_bayes_filter(commands, observations, belief_init, world)\n",
    "plot_belief(belief_filtered)"
   ]
  },
  {
   "cell_type": "code",
   "execution_count": 7,
   "metadata": {},
   "outputs": [
    {
     "name": "stdout",
     "output_type": "stream",
     "text": [
      "The most likely position is 9 with a probability of 0.407293 \n"
     ]
    }
   ],
   "source": [
    "print('The most likely position is %d with a probability of %f '%(np.argmax(belief_filtered),belief_filtered[np.argmax(belief_filtered)]))\n",
    "# belief_filtered\n"
   ]
  },
  {
   "cell_type": "markdown",
   "metadata": {},
   "source": [
    "---\n",
    "\n",
    "## Bayes filter with unknown initial position\n",
    "\n",
    "\n",
    "What if the initial position of the robot is unknown?\n",
    "\n",
    "Consider the same task as in 2. but with the initial belief about the position of the robot being an uniform probability distribution over the world.\n",
    "\n",
    "2. **[1.5]** Plot the final belief about the position of the robot.\n",
    "\n",
    "3. **[0.5]** Print out the most likely position and the corresponding probability."
   ]
  },
  {
   "cell_type": "code",
   "execution_count": 5,
   "metadata": {},
   "outputs": [
    {
     "data": {
      "image/png": "[encoded data removed]",
      "text/plain": [
       "<Figure size 432x288 with 2 Axes>"
      ]
     },
     "metadata": {
      "needs_background": "light"
     },
     "output_type": "display_data"
    }
   ],
   "source": [
    "uniform_belief = np.zeros_like(belief)+(1/len(belief))\n",
    "uniform_belief_filtered = recursive_bayes_filter(commands, observations, uniform_belief, world)\n",
    "plot_belief(uniform_belief_filtered)"
   ]
  }
 ],
 "metadata": {
  "kernelspec": {
   "display_name": "Python 3.8.5 ('base')",
   "language": "python",
   "name": "python3"
  },
  "language_info": {
   "codemirror_mode": {
    "name": "ipython",
    "version": 3
   },
   "file_extension": ".py",
   "mimetype": "text/x-python",
   "name": "python",
   "nbconvert_exporter": "python",
   "pygments_lexer": "ipython3",
   "version": "3.8.5"
  },
  "vscode": {
   "interpreter": {
    "hash": "668a9a6f29a1c92e0dfeece73ec52f37babcdd4312794a01ed8162fd33e4be24"
   }
  }
 },
 "nbformat": 4,
 "nbformat_minor": 4
}
