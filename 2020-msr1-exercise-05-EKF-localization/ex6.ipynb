{
 "cells": [
  {
   "cell_type": "markdown",
   "metadata": {},
   "source": [
    "# Exercise 6 - EKF Localization\n",
    "\n",
    "In this assignment you need to implement an EKF algorithm for localizing a robot in a given landmark map. \n",
    "The data for this exercise is recorded on a differential drive robot equipped with a sensor able to detect the distance and the angle of landmarks (e.g., beacons). The figure below visualizes the landmark map and the actual trajectory (ground truth) taken by the robot."
   ]
  },
  {
   "cell_type": "code",
   "execution_count": 1,
   "metadata": {
    "scrolled": true
   },
   "outputs": [
    {
     "data": {
      "image/png": "[encoded data removed]",
      "text/plain": [
       "<Figure size 432x288 with 1 Axes>"
      ]
     },
     "metadata": {
      "needs_background": "light"
     },
     "output_type": "display_data"
    }
   ],
   "source": [
    "import pickle\n",
    "import numpy as np\n",
    "import matplotlib.pyplot as plt\n",
    "from ex6 import *\n",
    "%matplotlib inline\n",
    "\n",
    "# read dataset\n",
    "data = pickle.load(open(\"dataset_2d_landmarks.p\", \"rb\"))\n",
    "\n",
    "# get landmark coordinates \n",
    "M = data['M']\n",
    "\n",
    "# get ground truth trajectory\n",
    "gt_traj = data['gt']\n",
    "\n",
    "# show map\n",
    "plt.figure(1)\n",
    "plt.plot(M[:,0], M[:,1], '^r')\n",
    "\n",
    "# show ground truth trajectory\n",
    "for i in range(0,len(gt_traj)):\n",
    "    plt.plot(gt_traj[i][0],gt_traj[i][1], '.b')\n"
   ]
  },
  {
   "cell_type": "markdown",
   "metadata": {},
   "source": [
    "The following data is provided in `data`:\n",
    "\n",
    "- *M* is the map of the environment where the robot must localize\n",
    "- *odom* is the noisy odometry readings observed by the robot during navigation in the form: $\\hat{x}_t,\\hat{y}_t, \\hat{\\theta}_t$ in the odometry frame\n",
    "- *gt* is the ground truth trajectory (poses in the map frame), you may want to use it for checking your results\n",
    "- *z* are the sensor measurements\n",
    "\n",
    "Each measurement $z_t$ contains a set of observed landmarks $[\\rho_i; \\phi_i; id_i]$, where $\\rho_i$ is the measured distance, $\\phi_i$ is the measured angle, and $id_i$ is the id of the landmark.\n",
    "\n",
    "You can access the `data` as follows:"
   ]
  },
  {
   "cell_type": "code",
   "execution_count": 2,
   "metadata": {},
   "outputs": [
    {
     "name": "stdout",
     "output_type": "stream",
     "text": [
      "Odom at step 10 is: \n",
      " [ 0.3449921   0.00058428 -0.02110238]\n",
      "Observation at step 10 is: \n",
      " [[ 2.1793557   1.27533718  3.5604415 ]\n",
      " [ 2.92652148 -1.4372858   0.4519207 ]\n",
      " [ 4.         11.         14.        ]]\n"
     ]
    }
   ],
   "source": [
    "# get odomety at timestamp 10\n",
    "odom_10 = data['odom'][10]\n",
    "print(\"Odom at step 10 is: \\n\",odom_10)\n",
    "\n",
    "# get observation at timestamp 10\n",
    "z_10 = data['z'][10]\n",
    "print(\"Observation at step 10 is: \\n\",z_10)"
   ]
  },
  {
   "cell_type": "markdown",
   "metadata": {},
   "source": [
    "## 6.1 Prediction [3.0]\n",
    "\n",
    "The `ekf_predict` function computes a prediction about the robot's pose after moving by using the odometry motion model.\n",
    "\n",
    "It takes as input:\n",
    "\n",
    "- the current belief about the pose of the robot represented as a Gaussian distribution $\\mathcal{N}(\\mu_t,\\Sigma_t)$ \n",
    "- the odometry readings $u_t$\n",
    "\n",
    "The output is a prediction about the robot's pose $\\mathcal{N}(\\overline{\\mu}_{t+1},\\overline{\\Sigma}_{t+1})$.\n",
    "\n",
    "You can use your implementation of the `inverse_motion_model` function from Exercise 3 to compute the $u_t = [\\delta_{rot1}, \\delta_{trans}, \\delta_{rot2}]$  from the odometry information.\n",
    "\n",
    "Implement the `ekf_predict` function and verify that it is correct for some test input. "
   ]
  },
  {
   "cell_type": "code",
   "execution_count": 3,
   "metadata": {},
   "outputs": [],
   "source": [
    "x_init = np.array([[0, 0 , 0]]).T\n",
    "u = np.array([[0,0,0],\n",
    "             [1, 1, 0]])\n",
    "P = np.zeros((3,3))\n",
    "x_pred,P_pred = ekf_predict(x_init,P,u)\n",
    "# print(x_pred,P_pred)"
   ]
  },
  {
   "cell_type": "markdown",
   "metadata": {},
   "source": []
  },
  {
   "cell_type": "markdown",
   "metadata": {},
   "source": [
    "## 6.2 Correction [3.0]\n",
    "\n",
    "The `ekf_correct` implements the correction step of the EKF that corrects the prediction according to the sensor measurements.\n",
    "\n",
    "It takes as input:\n",
    "\n",
    "- the current prediction about the pose of the robot represented as a Gaussian distribution $\\mathcal{N}(\\overline{\\mu}_{t+1},\\overline{\\Sigma}_{t+1})$\n",
    "- the sensor measurements $z_t$\n",
    "\n",
    "The output is new belief about the robot's pose $\\mathcal{N}({\\mu}_{t+1},{\\Sigma}_{t+1})$.\n",
    "\n",
    "Implement the `ekf_correct` function and verify that it is correct for some test input"
   ]
  },
  {
   "cell_type": "code",
   "execution_count": null,
   "metadata": {},
   "outputs": [],
   "source": []
  },
  {
   "cell_type": "markdown",
   "metadata": {},
   "source": [
    "## 6.3 Localization [3.0]\n",
    "\n",
    "Once you complete all the above functions, implement the main procedure of EKF localization `ekf_localization` which recursively estimates the pose of the robot using the odometry data and the sensor measurements.\n",
    "\n",
    "Assume the initial belief at time $t=0$ is:\n",
    "\n",
    "- $\\mu = [2, 2, \\pi/2]'$\n",
    "- $\n",
    "\\Sigma = \\left(\\begin{array}{cc} \n",
    "1 & 0 & 0\\\\\n",
    "0 & 1 & 0 \\\\\n",
    "0 & 0 & \\pi/3\n",
    "\\end{array}\\right)\n",
    "$ \n",
    "            \n",
    "The process noise $R$ and measurement noise $Q$ are defined as:\n",
    "- $R = \\left(\\begin{array}{cc} \n",
    "\\sigma_x^2 & 0 & 0 \\\\\n",
    "0 & \\sigma_y^2 & 0 \\\\\n",
    "0 & 0 &  \\sigma_{theta}^2\n",
    "\\end{array}\\right)\n",
    "$\n",
    "\n",
    "with $\\sigma_x = 0.25$ meters, $\\sigma_y = 0.25$ meters and $\\sigma_theta = 10$ degrees. \n",
    " \n",
    "- $Q = \n",
    "\\left(\\begin{array}{cc} \n",
    "\\sigma_r^2 & 0 \\\\\n",
    "0 & \\sigma_{phi}^2 \n",
    "\\end{array}\\right)\n",
    "$\n",
    "\n",
    "with $\\sigma_r = 0.10$ meters, $\\sigma_{phi} = 5$ degrees. \n",
    "\n",
    "Plot the belief about the position of the robot after the sequence of odometry readings and sensor measurements provided in `data` by using the `plot_state` function."
   ]
  },
  {
   "cell_type": "code",
   "execution_count": 4,
   "metadata": {},
   "outputs": [
    {
     "ename": "NameError",
     "evalue": "name 'ex' is not defined",
     "output_type": "error",
     "traceback": [
      "\u001b[0;31m---------------------------------------------------------------------------\u001b[0m",
      "\u001b[0;31mNameError\u001b[0m                                 Traceback (most recent call last)",
      "\u001b[1;32m/media/abdu/Data/Documents/repos/mobileRobotics/2020-msr1-exercise-05-EKF-localization/ex6.ipynb Cell 10\u001b[0m in \u001b[0;36m<cell line: 18>\u001b[0;34m()\u001b[0m\n\u001b[1;32m     <a href='vscode-notebook-cell:/media/abdu/Data/Documents/repos/mobileRobotics/2020-msr1-exercise-05-EKF-localization/ex6.ipynb#X12sZmlsZQ%3D%3D?line=15'>16</a>\u001b[0m \u001b[39m# visualize\u001b[39;00m\n\u001b[1;32m     <a href='vscode-notebook-cell:/media/abdu/Data/Documents/repos/mobileRobotics/2020-msr1-exercise-05-EKF-localization/ex6.ipynb#X12sZmlsZQ%3D%3D?line=16'>17</a>\u001b[0m plt\u001b[39m.\u001b[39mfigure()\n\u001b[0;32m---> <a href='vscode-notebook-cell:/media/abdu/Data/Documents/repos/mobileRobotics/2020-msr1-exercise-05-EKF-localization/ex6.ipynb#X12sZmlsZQ%3D%3D?line=17'>18</a>\u001b[0m ex\u001b[39m.\u001b[39mplot_state(mu, S, M)\n",
      "\u001b[0;31mNameError\u001b[0m: name 'ex' is not defined"
     ]
    },
    {
     "data": {
      "text/plain": [
       "<Figure size 432x288 with 0 Axes>"
      ]
     },
     "metadata": {},
     "output_type": "display_data"
    }
   ],
   "source": [
    "# 3x3 process noise\n",
    "sigma_x = 0.25  # [m]\n",
    "sigma_y = 0.25  # [m]\n",
    "sigma_theta = np.deg2rad(10)  # [rad]\n",
    "R = np.diag(np.array([sigma_x, sigma_y, sigma_theta])**2)\n",
    "\n",
    "# 2x2 observation noise\n",
    "sigma_r = 0.1  # [m]\n",
    "sigma_phi = np.deg2rad(5)  # [rad]\n",
    "Q = np.diag(np.array([sigma_r, sigma_phi])**2)\n",
    "\n",
    "# initial state\n",
    "mu = np.array([2, 2, np.pi/2]) \n",
    "S = np.array([[1, 0, 0],[0, 1, 0], [0, 0, np.pi/3]])\n",
    "\n",
    "# visualize\n",
    "plt.figure()\n",
    "ex.plot_state(mu, S, M)\n"
   ]
  },
  {
   "cell_type": "code",
   "execution_count": null,
   "metadata": {},
   "outputs": [],
   "source": []
  },
  {
   "cell_type": "code",
   "execution_count": null,
   "metadata": {},
   "outputs": [],
   "source": []
  }
 ],
 "metadata": {
  "kernelspec": {
   "display_name": "Python 3.8.10 64-bit",
   "language": "python",
   "name": "python3"
  },
  "language_info": {
   "codemirror_mode": {
    "name": "ipython",
    "version": 3
   },
   "file_extension": ".py",
   "mimetype": "text/x-python",
   "name": "python",
   "nbconvert_exporter": "python",
   "pygments_lexer": "ipython3",
   "version": "3.8.10"
  },
  "vscode": {
   "interpreter": {
    "hash": "e7370f93d1d0cde622a1f8e1c04877d8463912d04d973331ad4851f04de6915a"
   }
  }
 },
 "nbformat": 4,
 "nbformat_minor": 4
}
