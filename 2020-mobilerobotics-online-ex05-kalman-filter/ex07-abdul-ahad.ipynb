{
 "cells": [
  {
   "cell_type": "markdown",
   "metadata": {},
   "source": [
    "## Exercise in Photogrammetry II\n",
    "# Ex. 07 Kalman Filter\n",
    "### Submission: 05.02.2021 \n",
    "### Points: 20"
   ]
  },
  {
   "cell_type": "markdown",
   "metadata": {},
   "source": [
    "### A. Bayes Rule\n",
    "Use the Bayes rule \n",
    "$$P(A|B)= \\frac{P(B|A)P(A)}{P(B)}$$\n",
    "to solve following problem:\n",
    "\n",
    "  Last year 100 students have taken the exam in mathematics.\n",
    "  50 of them passed the exam. 42 out of these 50 have been doing homeworks.\n",
    "  There is only one student who did the homeworks but failed the exam.\n",
    "  \n",
    "  \n",
    "**Task**\n",
    "1.   Find the probability for a student to pass the exam, given he has done all the homeworks. Therefore, solve the following tasks:\n",
    "    1. Name each of the probabilities $[P(A|B),P(B|A),P(A),P(B)]$ in the context of this task. (2 Points)\n",
    "      - E.g. P(A|B)= Probabilitiy of ... given ...\n",
    "    2. Compute the probability for the given values. (2 Points)"
   ]
  },
  {
   "cell_type": "code",
   "execution_count": 1,
   "metadata": {},
   "outputs": [
    {
     "name": "stdout",
     "output_type": "stream",
     "text": [
      "Probability of failing is 0.5\n",
      "Probability of doing homework 0.43\n",
      "Probability of passing given that homework is done 0.9767441860465116\n"
     ]
    }
   ],
   "source": [
    "# Given statements:\n",
    "# Probability of passing\n",
    "p_pass = 50/100\n",
    "p_homework_pass = 42/50\n",
    "p_fail = 1 - p_pass\n",
    "print(\"Probability of failing is {}\".format(p_fail))\n",
    "p_homework_fail = 1/50\n",
    "# Using total probility\n",
    "p_homework = p_homework_pass*p_pass + p_homework_fail * p_fail\n",
    "\n",
    "print(\"Probability of doing homework\",p_homework)\n",
    "\n",
    "# Using bayes rule \n",
    "p_passing_homework = (p_pass * p_homework_pass)/p_homework\n",
    "\n",
    "print(\"Probability of passing given that homework is done\", p_passing_homework)\n"
   ]
  },
  {
   "cell_type": "markdown",
   "metadata": {},
   "source": [
    "### B. Kalman Filter\n",
    "In the lecture you got to know the Kalman Filter as a realization of the Bayes filter where you assume a linear model and gaussian distributed noise. In this exercise, you need to estimate the height and velocity of a falling object in ${R}^1$ recursively for specific time intervals of $t=1$ seconds.\n",
    "\n",
    "Assume the initial state of the object to be given by its height $y=95.5$ m and velocity $v=0$ $\\frac{m}{s}$ and corresponding uncertainties $\\sigma_y^2=0.25$ and $\\sigma_v^2=0.05$. We assume a motion with uniform acceleration of $a=1$ $\\frac{m}{s^2}$ which we will treat as a control command. In addition, you observe the height of the falling object for five consecutive time steps $z = [96.4, 95.9, 94.4, 87.7, 85.3]$ m with $\\sigma_z^2=0.5$.\n",
    "The covariance of the process noise is given as follwing: \n",
    "    $${\\Sigma}_t = \\begin{pmatrix} 0.1 & 0 \\\\ 0 & 0.1 \\end{pmatrix}$$\n",
    "\n",
    "**Tasks:**\n",
    "2. What are the unknows of your state vector $\\mathbf{x}_t$? (1 Point)\n",
    "3. Write down the linear model $\\mathbf{x}_t=\\mathbf{A}_t\\mathbf{x}_{t-1} + \\mathbf{B}_t \\mathbf{u}_t$ explicitly and print the matrices $\\mathbf{A}_t$, $\\mathbf{B}_t$ to the terminal. (3 Points)\n",
    "4. Write down the linear model $\\mathbf{z}_t=\\mathbf{C}_t \\mathbf{x}_t$ explicitly and print the matrix $\\mathbf{C}_t$ to the terminal. (2 Points)\n",
    "5. Recursively estimate the state $\\mathbf{x}_t$ of the falling object for five consecutive time steps according to the Kalman Filter.\n",
    "For each time step visualize the predicted heigth of $\\bar{\\mathbf{x}}_t$, the observation $\\mathbf{z}_t$ and the posteriori state estimate $\\mathbf{x}_t$. Plot time steps on the x-axis and height on the y-axis. (6)\n",
    "6. Assume the measurements of your sensor to be unreliable. This time set the uncertainty $\\sigma_z^2=1e^8$ and recursively estimate the state. Visualize your results and explain the behaviour of the Kalman Filter. (2 Points)\n",
    "7. Assume the measurements of your sensor to be nearly perfect. This time set the uncertainty $\\sigma_z^2=1e^{-8}$ and recursively estimate the state. Visualize your results and explain the behaviour of the Kalman Filter. (2 Points)\n"
   ]
  },
  {
   "cell_type": "code",
   "execution_count": 7,
   "metadata": {},
   "outputs": [
    {
     "name": "stdout",
     "output_type": "stream",
     "text": [
      "state matrix (2, 1)\n"
     ]
    }
   ],
   "source": [
    "import numpy as np\n",
    "#  What are the unknows of your state vector x_t ?\n",
    "v,y = 0,0\n",
    "x_t = np.array([[y,v]]).T\n",
    "print(\"state matrix\",x_t) "
   ]
  },
  {
   "cell_type": "code",
   "execution_count": null,
   "metadata": {},
   "outputs": [],
   "source": []
  }
 ],
 "metadata": {
  "kernelspec": {
   "display_name": "Python 3.8.5 ('base')",
   "language": "python",
   "name": "python3"
  },
  "language_info": {
   "codemirror_mode": {
    "name": "ipython",
    "version": 3
   },
   "file_extension": ".py",
   "mimetype": "text/x-python",
   "name": "python",
   "nbconvert_exporter": "python",
   "pygments_lexer": "ipython3",
   "version": "3.8.5"
  },
  "vscode": {
   "interpreter": {
    "hash": "668a9a6f29a1c92e0dfeece73ec52f37babcdd4312794a01ed8162fd33e4be24"
   }
  }
 },
 "nbformat": 4,
 "nbformat_minor": 2
}
