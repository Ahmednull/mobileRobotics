{
 "cells": [
  {
   "cell_type": "markdown",
   "metadata": {},
   "source": [
    "# Exercise 9 -Path Planning\n",
    "\n",
    "## 9.1 Greedy Uninformed Search [3.0]\n",
    "\n",
    "In this exercise, you will implement a greedy uninformed search algorithm to find the shortest path from a start to a goal location.\n",
    "\n",
    "The input to the search is:\n",
    "- the map of the environment $\\mathbf{M}$\n",
    "- the start position $\\mathbf{x}_{start}$\n",
    "- the goal position $\\mathbf{x}_{goal}$\n",
    "\n",
    "The output is the sequence of positions $(x,y)$ from the start to the goal.\n",
    "\n",
    "At each step, the robot is allowed to move from one cell to one of the 8 neighboring cells.\n",
    "\n",
    "This search algorithm is similar to A* but does not use any heuristic to guide the search.\n",
    "Therefore, the cost of each step of the search is defined only by $g(\\mathbf{x})$, which is the 'actual' cost from $\\mathbf{x}_{start}$ to $\\mathbf{x}$. \n",
    "\n",
    "Implement the `plan_path_uninformed` function and verify that it is correct for some test input.\n",
    "\n",
    "Use the available function `is_valid` to select only the cells that belong to the free space."
   ]
  },
  {
   "cell_type": "code",
   "execution_count": 1,
   "metadata": {},
   "outputs": [],
   "source": [
    "%matplotlib inline\n",
    "import ex9 as ex\n",
    "import matplotlib.image as mpimg\n",
    "import numpy as np"
   ]
  },
  {
   "cell_type": "code",
   "execution_count": null,
   "metadata": {},
   "outputs": [],
   "source": []
  },
  {
   "cell_type": "markdown",
   "metadata": {},
   "source": [
    "## 9.2 Greedy Uninformed Planning [2.0]\n",
    "\n",
    "Use `plan_path_uninformed` to plan a path from start to goal in the following scenario.\n",
    "\n",
    "Plot the resulting path with the available function `plot_path`.\n",
    "\n",
    "Print the lenght of the path and the number of nodes explored to find the goal.\n"
   ]
  },
  {
   "cell_type": "code",
   "execution_count": 3,
   "metadata": {},
   "outputs": [
    {
     "data": {
      "image/png": "[encoded data removed]",
      "text/plain": [
       "<Figure size 288x399.137 with 1 Axes>"
      ]
     },
     "metadata": {
      "needs_background": "light"
     },
     "output_type": "display_data"
    }
   ],
   "source": [
    "M = mpimg.imread('Map.png')\n",
    "\n",
    "x_start = np.array([500, 410])\n",
    "x_goal = np.array([495, 35])\n",
    "\n",
    "ex.plot_path(np.array([[500,400],[500,401],[500,402]]), x_start, x_goal, M)"
   ]
  },
  {
   "cell_type": "code",
   "execution_count": 13,
   "metadata": {},
   "outputs": [
    {
     "name": "stdout",
     "output_type": "stream",
     "text": [
      "(668, 482)\n"
     ]
    }
   ],
   "source": [
    "print(M.shape)"
   ]
  },
  {
   "cell_type": "markdown",
   "metadata": {},
   "source": [
    "## 9.3 A* algorithm [3.0]\n",
    "\n",
    "Implement A* algorithm by adding an heuristic to the `plan_path_uninformed` algorithm to inform and speed up the search.\n",
    "\n",
    "Use the (straight-line) Euclidean distance to the goal as a heuristic function.\n",
    "\n",
    "Implement `plan_path_astar` and verify that it is correct for some test input."
   ]
  },
  {
   "cell_type": "code",
   "execution_count": null,
   "metadata": {},
   "outputs": [],
   "source": []
  },
  {
   "cell_type": "markdown",
   "metadata": {},
   "source": [
    "## 9.4 A* planning [2.0]\n",
    "\n",
    "Use `plan_path_astar` to plan a path from start to goal in the previous scenario.\n",
    "\n",
    "Plot the resulting path with the available function `plot_path`.\n",
    "\n",
    "Print the lenght of the path and the number of nodes explored to find the goal."
   ]
  },
  {
   "cell_type": "code",
   "execution_count": null,
   "metadata": {},
   "outputs": [],
   "source": []
  }
 ],
 "metadata": {
  "kernelspec": {
   "display_name": "Python 3.8.5 ('base')",
   "language": "python",
   "name": "python3"
  },
  "language_info": {
   "codemirror_mode": {
    "name": "ipython",
    "version": 3
   },
   "file_extension": ".py",
   "mimetype": "text/x-python",
   "name": "python",
   "nbconvert_exporter": "python",
   "pygments_lexer": "ipython3",
   "version": "3.8.5"
  },
  "vscode": {
   "interpreter": {
    "hash": "668a9a6f29a1c92e0dfeece73ec52f37babcdd4312794a01ed8162fd33e4be24"
   }
  }
 },
 "nbformat": 4,
 "nbformat_minor": 4
}
