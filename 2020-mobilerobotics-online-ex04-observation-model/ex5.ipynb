{
 "cells": [
  {
   "cell_type": "markdown",
   "metadata": {},
   "source": [
    "# Exercise 5: Observation model\n",
    "\n",
    "\n",
    "## 5.1 Implement model for perceiving landmarks\n",
    "\n",
    "Consider a robot that operates in an environment populated by **range-only** sensors such as _beacons_.\n",
    "These sensors transmit a signal that allows for obtaining noisy measurements of their distance from a receiver mounted on the robot.\n",
    "\n",
    "The function `landmark_observation_model` realizes the observation model for perceiving landmarks with a range sensor. It takes as input:\n",
    " \n",
    "- the observed noisy range $z$\n",
    "- the standard deviation of the measurement $\\sigma_z$ (zero-mean Gaussian noise)\n",
    "- the position of the robot in the map $x$\n",
    "- the position of the beacon transmitting beacon in the map $m$\n",
    "\n",
    "The output of this function is the probability $p(z | x, m)$ that the measurement $z$ was obtained at position $x$.\n",
    "\n",
    "Implement the `landmark_observation_model` function and verify that it is correct for some test input. **[2.0]**"
   ]
  },
  {
   "cell_type": "code",
   "execution_count": 6,
   "metadata": {},
   "outputs": [
    {
     "name": "stdout",
     "output_type": "stream",
     "text": [
      "[[5.05227108e-15 9.13472041e-12 6.07588285e-09 1.48671951e-06\n",
      "  1.33830226e-04 4.43184841e-03 5.39909665e-02 2.41970725e-01\n",
      "  3.98942280e-01 2.41970725e-01]]\n"
     ]
    },
    {
     "data": {
      "image/png": "[encoded data removed]",
      "text/plain": [
       "<Figure size 432x288 with 1 Axes>"
      ]
     },
     "metadata": {
      "needs_background": "light"
     },
     "output_type": "display_data"
    }
   ],
   "source": [
    "from ex5 import *\n",
    "import numpy as np\n",
    "gridmap = np.zeros((1,10))\n",
    "# print(gridmap)\n",
    "z = 8\n",
    "# x = [0,0]\n",
    "sigma =1\n",
    "m =[0,0]\n",
    "for i in range(gridmap.shape[1]):\n",
    "    # print(landmark_observation_model(z,[0,i],m,sigma))\n",
    "    gridmap[0][i] = landmark_observation_model(z,[0,i],m,sigma)\n",
    "\n",
    "print(gridmap)\n",
    "plot_map(gridmap)\n",
    "\n"
   ]
  },
  {
   "cell_type": "markdown",
   "metadata": {},
   "source": [
    "---\n",
    "\n",
    "## 5.2 Compute likelihood of measurement in the environment\n",
    "\n",
    "The robot operates in an environment that is represetend by a 20x20 grid map and contains a beacon at position $m_1 = [0,0]$ (top-left corner). \n",
    "\n",
    "The robot obtains a range measurement of the beacon $z_1 = 10$ and the sensor noise is $\\sigma_{z1} = 1$.\n",
    "\n",
    "Compute the `landmark_observation_model` at each cell of the environment and plot the likelihood of the observation over the environment. **[1.0]** "
   ]
  },
  {
   "cell_type": "code",
   "execution_count": 7,
   "metadata": {},
   "outputs": [
    {
     "name": "stdout",
     "output_type": "stream",
     "text": [
      "[[7.69459863e-23 1.02797736e-18 5.05227108e-15 9.13472041e-12\n",
      "  6.07588285e-09 1.48671951e-06 1.33830226e-04 4.43184841e-03\n",
      "  5.39909665e-02 2.41970725e-01 3.98942280e-01 2.41970725e-01\n",
      "  5.39909665e-02 4.43184841e-03 1.33830226e-04 1.48671951e-06\n",
      "  6.07588285e-09 9.13472041e-12 5.05227108e-15 1.02797736e-18]\n",
      " [1.02797736e-18 3.92412608e-17 3.24765288e-14 2.80744296e-11\n",
      "  1.26212709e-08 2.42726998e-06 1.85712045e-04 5.47118300e-03\n",
      "  6.10317505e-02 2.55358420e-01 3.98446389e-01 2.31002127e-01\n",
      "  4.96382911e-02 3.94664105e-03 1.15961762e-04 1.25801591e-06\n",
      "  5.03554983e-09 7.43312410e-12 4.04467675e-15 8.11045636e-19]\n",
      " [5.05227108e-15 3.24765288e-14 2.70838856e-12 5.27208095e-10\n",
      "  9.23593414e-08 9.47086360e-06 4.65040839e-04 9.87410465e-03\n",
      "  8.57065505e-02 2.94200444e-01 3.91195337e-01 1.98783366e-01\n",
      "  3.82470851e-02 2.76843208e-03 7.50330184e-05 7.58836856e-07\n",
      "  2.85617201e-09 3.99286999e-12 2.06998348e-15 3.97454382e-19]\n",
      " [9.13472041e-12 2.80744296e-11 5.27208095e-10 2.52982235e-08\n",
      "  1.48671951e-06 6.70937552e-05 1.76978146e-03 2.32556428e-02\n",
      "  1.38221048e-01 3.49724797e-01 3.62086030e-01 1.49359964e-01\n",
      "  2.40945462e-02 1.49998842e-03 3.56868637e-05 3.22116316e-07\n",
      "  1.09694963e-09 1.40332946e-12 6.72141611e-16 1.20203848e-19]\n",
      " [6.07588285e-09 1.26212709e-08 9.23593414e-08 1.48671951e-06\n",
      "  3.19801219e-05 6.18819975e-04 8.16488184e-03 6.10317505e-02\n",
      "  2.28499917e-01 3.94411493e-01 2.96519472e-01 9.32996030e-02\n",
      "  1.19403468e-02 6.08670525e-04 1.21675164e-05 9.42616349e-08\n",
      "  2.80425364e-10 3.18088558e-13 1.36794840e-16 2.22029866e-20]\n",
      " [1.48671951e-06 2.42726998e-06 9.47086360e-06 6.70937552e-05\n",
      "  6.18819975e-04 5.47118300e-03 3.62817008e-02 1.50215273e-01\n",
      "  3.39892050e-01 3.81884480e-01 1.98783366e-01 4.55712248e-02\n",
      "  4.43184841e-03 1.77763639e-04 2.87847171e-06 1.85081340e-08\n",
      "  4.66479380e-11 4.56174048e-14 1.71673627e-17 2.46989457e-21]\n",
      " [1.33830226e-04 1.85712045e-04 4.65040839e-04 1.76978146e-03\n",
      "  8.16488184e-03 3.62817008e-02 1.26675727e-01 2.94200444e-01\n",
      "  3.98942280e-01 2.85817933e-01 1.00268806e-01 1.62559274e-02\n",
      "  1.16520309e-03 3.56868637e-05 4.54768920e-07 2.36143980e-09\n",
      "  4.91434013e-12 4.04467675e-15 1.30245735e-18 1.62664883e-22]\n",
      " [4.43184841e-03 5.47118300e-03 9.87410465e-03 2.32556428e-02\n",
      "  6.10317505e-02 1.50215273e-01 2.94200444e-01 3.96932449e-01\n",
      "  3.27102924e-01 1.49359964e-01 3.49658861e-02 3.94664105e-03\n",
      "  2.04590807e-04 4.68704644e-06 4.60204438e-08 1.88960152e-10\n",
      "  3.18088558e-13 2.16016814e-16 5.84065230e-20 6.21938490e-24]\n",
      " [5.39909665e-02 6.10317505e-02 8.57065505e-02 1.38221048e-01\n",
      "  2.28499917e-01 3.39892050e-01 3.98942280e-01 3.27102924e-01\n",
      "  1.68325859e-01 4.96382911e-02 7.77801757e-03 6.08670525e-04\n",
      "  2.26152180e-05 3.82872689e-07 2.85617201e-09 9.13472041e-12\n",
      "  1.22469394e-14 6.75670551e-18 1.51059627e-21 1.35116890e-25]\n",
      " [2.41970725e-01 2.55358420e-01 2.94200444e-01 3.49724797e-01\n",
      "  3.94411493e-01 3.81884480e-01 2.85817933e-01 1.49359964e-01\n",
      "  4.96382911e-02 9.66042226e-03 1.02537379e-03 5.58838852e-05\n",
      "  1.48671951e-06 1.85081340e-08 1.04089630e-10 2.56824946e-13\n",
      "  2.71290621e-16 1.20203848e-19 2.19599793e-23 1.63039023e-27]\n",
      " [3.98942280e-01 3.98446389e-01 3.91195337e-01 3.62086030e-01\n",
      "  2.96519472e-01 1.98783366e-01 1.00268806e-01 3.49658861e-02\n",
      "  7.77801757e-03 1.02537379e-03 7.50330184e-05 2.87847171e-06\n",
      "  5.51094287e-08 5.04858025e-10 2.13525894e-12 4.04467675e-15\n",
      "  3.34416081e-18 1.18078285e-21 1.74768422e-25 1.06730278e-29]\n",
      " [2.41970725e-01 2.31002127e-01 1.98783366e-01 1.49359964e-01\n",
      "  9.32996030e-02 4.55712248e-02 1.62559274e-02 3.94664105e-03\n",
      "  6.08670525e-04 5.58838852e-05 2.87847171e-06 7.88714384e-08\n",
      "  1.09694963e-09 7.43312410e-12 2.36834386e-14 3.44099414e-17\n",
      "  2.22029866e-20 6.21938490e-24 7.41626208e-28 3.70161216e-32]\n",
      " [5.39909665e-02 4.96382911e-02 3.82470851e-02 2.40945462e-02\n",
      "  1.19403468e-02 4.43184841e-03 1.16520309e-03 2.04590807e-04\n",
      "  2.26152180e-05 1.48671951e-06 5.51094287e-08 1.09694963e-09\n",
      "  1.12201365e-11 5.67070188e-14 1.36794840e-16 1.52791698e-19\n",
      "  7.69459863e-23 1.70709714e-26 1.63507845e-30 6.64317668e-35]\n",
      " [4.43184841e-03 3.94664105e-03 2.76843208e-03 1.49998842e-03\n",
      "  6.08670525e-04 1.77763639e-04 3.56868637e-05 4.68704644e-06\n",
      "  3.82872689e-07 1.85081340e-08 5.04858025e-10 7.43312410e-12\n",
      "  5.67070188e-14 2.16016814e-16 3.97454382e-19 3.42899058e-22\n",
      "  1.35116890e-25 2.37589630e-29 1.82650197e-33 6.02901511e-38]\n",
      " [1.33830226e-04 1.15961762e-04 7.50330184e-05 3.56868637e-05\n",
      "  1.21675164e-05 2.87847171e-06 4.54768920e-07 4.60204438e-08\n",
      "  2.85617201e-09 1.04089630e-10 2.13525894e-12 2.36834386e-14\n",
      "  1.36794840e-16 3.97454382e-19 5.62843960e-22 3.77550474e-25\n",
      "  1.16924744e-28 1.63385115e-32 1.00925238e-36 2.70614389e-41]\n",
      " [1.48671951e-06 1.25801591e-06 7.58836856e-07 3.22116316e-07\n",
      "  9.42616349e-08 1.85081340e-08 2.36143980e-09 1.88960152e-10\n",
      "  9.13472041e-12 2.56824946e-13 4.04467675e-15 3.44099414e-17\n",
      "  1.52791698e-19 3.42899058e-22 3.77550474e-25 1.98472115e-28\n",
      "  4.85935852e-32 5.41842829e-36 2.69650223e-40 5.88119157e-45]\n",
      " [6.07588285e-09 5.03554983e-09 2.85617201e-09 1.09694963e-09\n",
      "  2.80425364e-10 4.66479380e-11 4.91434013e-12 3.18088558e-13\n",
      "  1.22469394e-14 2.71290621e-16 3.34416081e-18 2.22029866e-20\n",
      "  7.69459863e-23 1.35116890e-25 1.16924744e-28 4.85935852e-32\n",
      "  9.47157108e-36 8.47241664e-40 3.40994832e-44 6.06526352e-49]\n",
      " [9.13472041e-12 7.43312410e-12 3.99286999e-12 1.40332946e-12\n",
      "  3.18088558e-13 4.56174048e-14 4.04467675e-15 2.16016814e-16\n",
      "  6.75670551e-18 1.20203848e-19 1.18078285e-21 6.21938490e-24\n",
      "  1.70709714e-26 2.37589630e-29 1.63385115e-32 5.41842829e-36\n",
      "  8.47241664e-40 6.11724090e-44 2.00073376e-48 2.91260269e-53]\n",
      " [5.05227108e-15 4.04467675e-15 2.06998348e-15 6.72141611e-16\n",
      "  1.36794840e-16 1.71673627e-17 1.30245735e-18 5.84065230e-20\n",
      "  1.51059627e-21 2.19599793e-23 1.74768422e-25 7.41626208e-28\n",
      "  1.63507845e-30 1.82650197e-33 1.00925238e-36 2.69650223e-40\n",
      "  3.40994832e-44 2.00073376e-48 5.34687684e-53 6.39837100e-58]\n",
      " [1.02797736e-18 8.11045636e-19 3.97454382e-19 1.20203848e-19\n",
      "  2.22029866e-20 2.46989457e-21 1.62664883e-22 6.21938490e-24\n",
      "  1.35116890e-25 1.63039023e-27 1.06730278e-29 3.70161216e-32\n",
      "  6.64317668e-35 6.02901511e-38 2.70614389e-41 5.88119157e-45\n",
      "  6.06526352e-49 2.91260269e-53 6.39837100e-58 6.32493132e-63]]\n"
     ]
    },
    {
     "data": {
      "image/png": "[encoded data removed]",
      "text/plain": [
       "<Figure size 432x288 with 1 Axes>"
      ]
     },
     "metadata": {
      "needs_background": "light"
     },
     "output_type": "display_data"
    }
   ],
   "source": [
    "gridmap = np.zeros((20,20))\n",
    "m =[0,0]\n",
    "z= 10\n",
    "sigma = 1\n",
    "for i in range(gridmap.shape[0]):\n",
    "    for j in range(gridmap.shape[1]):\n",
    "        gridmap[i][j] = landmark_observation_model(z,[i,j],m,sigma)\n",
    "print(gridmap)\n",
    "plot_map(gridmap)"
   ]
  },
  {
   "cell_type": "markdown",
   "metadata": {},
   "source": [
    "---\n",
    "\n",
    "## 5.3 Multiple landmarks\n",
    "\n",
    "Assume that we install two **additional** beacons in our environment:\n",
    "\n",
    "- $m_2 = [0, 10]$\n",
    "- $m_3 = [10, 0]$\n",
    "\n",
    "from which we obtain the following observations:\n",
    "\n",
    "- $z_2 = 5$ with $\\sigma_{z2} = 3$\n",
    "- $z_3 = 9$ with $\\sigma_{z3} = 2$\n",
    "\n",
    "Compute the `landmark_observation_model` at each cell of the environment considering the measurements from **all** beacons and plot the **joint** likelihood of the observations over the environment. **[2.0]** "
   ]
  },
  {
   "cell_type": "code",
   "execution_count": 8,
   "metadata": {},
   "outputs": [
    {
     "name": "stdout",
     "output_type": "stream",
     "text": [
      "[[5.83707523e-03 9.50150305e-03 1.34463347e-02 1.63886032e-02\n",
      "  1.69591044e-02 1.46418445e-02 1.03485531e-02 5.87465101e-03\n",
      "  2.63051018e-03 9.13825139e-04 2.42691305e-04 1.47767459e-04\n",
      "  6.71546094e-05 2.25649000e-05 5.56102347e-06 9.98327272e-07\n",
      "  1.29799226e-07 1.21623323e-08 8.17883753e-10 3.93322360e-11]\n",
      " [6.43262680e-03 1.06340422e-02 1.56602531e-02 2.02914028e-02\n",
      "  2.27125326e-02 2.14933126e-02 1.68250821e-02 1.06914279e-02\n",
      "  5.45918694e-03 2.28557488e-03 9.13825139e-04 4.34874129e-04\n",
      "  1.92764135e-04 6.66112963e-05 1.71263485e-05 3.21959185e-06\n",
      "  4.38345237e-07 4.29461833e-08 3.01330634e-09 1.50844688e-10]\n",
      " [5.21755715e-03 8.83796555e-03 1.37584869e-02 1.93617473e-02\n",
      "  2.40530372e-02 2.56959789e-02 2.30493765e-02 1.70801975e-02\n",
      "  1.04539295e-02 5.45918694e-03 2.63051018e-03 1.23000804e-03\n",
      "  5.17417748e-04 1.76373936e-04 4.58581926e-05 8.82538518e-06\n",
      "  1.23692486e-06 1.25018719e-07 9.05259282e-09 4.67397887e-10]\n",
      " [3.10758091e-03 5.44444160e-03 9.12109896e-03 1.42746064e-02\n",
      "  2.02082260e-02 2.50278833e-02 2.63664870e-02 2.32223706e-02\n",
      "  1.70801975e-02 1.06914279e-02 5.87465101e-03 2.86310312e-03\n",
      "  1.19493364e-03 4.03372165e-04 1.04998353e-04 2.04225773e-05\n",
      "  2.91050262e-06 3.00140275e-07 2.22106391e-08 1.17260858e-09]\n",
      " [1.35432322e-03 2.47971672e-03 4.56799707e-03 8.17115013e-03\n",
      "  1.35513990e-02 1.99216104e-02 2.50539619e-02 2.63664870e-02\n",
      "  2.30493765e-02 1.68250821e-02 1.03485531e-02 5.35386559e-03\n",
      "  2.28086878e-03 7.73535384e-04 2.01922334e-04 3.95023849e-05\n",
      "  5.68187442e-06 5.92951870e-07 4.44819874e-08 2.38302715e-09]\n",
      " [4.30023830e-04 8.33542485e-04 1.73760348e-03 3.67601799e-03\n",
      "  7.36248931e-03 1.31277152e-02 1.99216104e-02 2.50278833e-02\n",
      "  2.56959789e-02 2.14933126e-02 1.46418445e-02 8.08028763e-03\n",
      "  3.56041450e-03 1.22584734e-03 3.22193817e-04 6.33200509e-05\n",
      "  9.15222230e-06 9.60832863e-07 7.25927754e-08 3.92015867e-09]\n",
      " [9.90143725e-05 2.07104794e-04 5.09938960e-04 1.33506072e-03\n",
      "  3.34075598e-03 7.36248931e-03 1.35513990e-02 2.02082260e-02\n",
      "  2.40530372e-02 2.27125326e-02 1.69591044e-02 9.95984605e-03\n",
      "  4.55464877e-03 1.59890411e-03 4.24010759e-04 8.36395847e-05\n",
      "  1.21093874e-05 1.27289362e-06 9.63213956e-08 5.21265945e-09]\n",
      " [1.64549631e-05 3.84437281e-05 1.19981107e-04 4.12898436e-04\n",
      "  1.33506072e-03 3.67601799e-03 8.17115013e-03 1.42746064e-02\n",
      "  1.93617473e-02 2.02914028e-02 1.63886032e-02 1.01631674e-02\n",
      "  4.80786865e-03 1.71898987e-03 4.59437767e-04 9.07696821e-05\n",
      "  1.31192209e-05 1.37476420e-06 1.03673473e-07 5.59257735e-09]\n",
      " [1.96492978e-06 5.54201024e-06 2.47847529e-05 1.19981107e-04\n",
      "  5.09938960e-04 1.73760348e-03 4.56799707e-03 9.12109896e-03\n",
      "  1.37584869e-02 1.56602531e-02 1.34463347e-02 8.69645588e-03\n",
      "  4.22116829e-03 1.52878382e-03 4.10093750e-04 8.08276982e-05\n",
      "  1.16132304e-05 1.20760631e-06 9.03107078e-08 4.83146274e-09]\n",
      " [1.67908710e-07 7.22551530e-07 5.54201024e-06 3.84437281e-05\n",
      "  2.07104794e-04 8.33542485e-04 2.47971672e-03 5.44444160e-03\n",
      "  8.83796555e-03 1.06340422e-02 9.50150305e-03 6.30602868e-03\n",
      "  3.10360574e-03 1.12874167e-03 3.01852600e-04 5.90159425e-05\n",
      "  8.38530885e-06 8.60871657e-07 6.35235988e-08 3.35341022e-09]\n",
      " [1.02304781e-08 1.67908710e-07 1.96492978e-06 1.64549631e-05\n",
      "  9.90143725e-05 4.30023830e-04 1.35432322e-03 3.10758091e-03\n",
      "  5.21755715e-03 6.43262680e-03 5.83707523e-03 3.90158538e-03\n",
      "  1.91943201e-03 6.93395027e-04 1.83287717e-04 3.52985055e-05\n",
      "  4.92963533e-06 4.96896831e-07 3.59889443e-08 1.86529728e-09]\n",
      " [3.98805891e-08 1.78649665e-07 1.42865410e-06 1.03421073e-05\n",
      "  5.81392926e-05 2.43829996e-04 7.53478721e-04 1.70952940e-03\n",
      "  2.84671381e-03 3.48121132e-03 3.12782818e-03 2.06437195e-03\n",
      "  9.99673203e-04 3.54419646e-04 9.17199572e-05 1.72634956e-05\n",
      "  2.35395770e-06 2.31591147e-07 1.63755110e-08 8.29125101e-10]\n",
      " [1.10193736e-07 3.36711572e-07 1.63677325e-06 8.63028665e-06\n",
      "  3.99588813e-05 1.47959603e-04 4.20157401e-04 8.97017251e-04\n",
      "  1.42562167e-03 1.67770048e-03 1.45715271e-03 9.31661071e-04\n",
      "  4.37387413e-04 1.50348710e-04 3.77197974e-05 6.88260253e-06\n",
      "  9.10014201e-07 8.68635814e-08 5.96407604e-09 2.93541395e-10]\n",
      " [2.15311230e-07 5.66842150e-07 2.00414708e-06 7.84200896e-06\n",
      "  2.88595592e-05 9.01831503e-05 2.25662091e-04 4.37300816e-04\n",
      "  6.43598391e-04 7.10858307e-04 5.84646921e-04 3.56041032e-04\n",
      "  1.59817008e-04 5.26610440e-05 1.26882612e-05 2.22683782e-06\n",
      "  2.83593791e-07 2.61103270e-08 1.73174671e-09 8.24610081e-11]\n",
      " [2.96911808e-07 7.27145351e-07 2.11258170e-06 6.56461548e-06\n",
      "  1.95502568e-05 5.11705398e-05 1.10852344e-04 1.91047333e-04\n",
      "  2.55246012e-04 2.59839608e-04 1.99161421e-04 1.13944250e-04\n",
      "  4.83330203e-05 1.51159416e-05 3.46846747e-06 5.81309189e-07\n",
      "  7.08646891e-08 6.25893414e-09 3.99041519e-10 1.83016579e-11]\n",
      " [2.88474031e-07 6.79112960e-07 1.73758260e-06 4.55163008e-06\n",
      "  1.13508127e-05 2.52065387e-05 4.72616655e-05 7.19220462e-05\n",
      "  8.63407384e-05 8.01122452e-05 5.66042015e-05 3.01177392e-05\n",
      "  1.19633044e-05 3.52268898e-06 7.64366742e-07 1.21580891e-07\n",
      "  1.41100594e-08 1.18969923e-09 7.25919031e-11 3.19387507e-12]\n",
      " [1.97189243e-07 4.53673687e-07 1.06453355e-06 2.45557316e-06\n",
      "  5.30198429e-06 1.01934353e-05 1.66967495e-05 2.24777776e-05\n",
      "  2.41819105e-05 2.03465537e-05 1.31699185e-05 6.47442388e-06\n",
      "  2.39293956e-06 6.59449109e-07 1.34567405e-07 2.02124726e-08\n",
      "  2.22303313e-09 1.78192381e-10 1.03661556e-11 4.35983961e-13]\n",
      " [9.47173877e-08 2.14951391e-07 4.74289450e-07 9.93482791e-07\n",
      "  1.90966860e-06 3.24541122e-06 4.70617927e-06 5.64442888e-06\n",
      "  5.45544804e-06 4.16031707e-06 2.46113877e-06 1.11410907e-06\n",
      "  3.81664109e-07 9.80436293e-08 1.87412557e-08 2.64823279e-09\n",
      "  2.75041237e-10 2.08891363e-11 1.15493450e-12 4.62956285e-14]\n",
      " [3.19372775e-08 7.18916578e-08 1.51613650e-07 2.94737925e-07\n",
      "  5.15572402e-07 7.89139684e-07 1.02740328e-06 1.10821517e-06\n",
      "  9.67679904e-07 6.70613435e-07 3.62781049e-07 1.51095745e-07\n",
      "  4.78953639e-08 1.14436774e-08 2.04408381e-09 2.71033133e-10\n",
      "  2.65132556e-11 1.90312151e-12 9.97563645e-14 3.80200723e-15]\n",
      " [7.55275911e-09 1.69232448e-08 3.44902099e-08 6.32110716e-08\n",
      "  1.02358457e-07 1.43365687e-07 1.69814177e-07 1.66410296e-07\n",
      "  1.32214344e-07 8.36481463e-08 4.14875971e-08 1.59156522e-08\n",
      "  4.66849440e-09 1.03679374e-09 1.72854834e-10 2.14754704e-11\n",
      "  1.97548828e-12 1.33784455e-13 6.63651905e-15 2.40057500e-16]]\n"
     ]
    },
    {
     "data": {
      "image/png": "[encoded data removed]",
      "text/plain": [
       "<Figure size 432x288 with 1 Axes>"
      ]
     },
     "metadata": {
      "needs_background": "light"
     },
     "output_type": "display_data"
    }
   ],
   "source": [
    "# since the measurements from both beacons are independent p(z|x,cell) = p(z|x1,cell)*p(z|x2,cell) where x1 and x2 are beacon positions\n",
    "gridmap = np.ones((20,20))\n",
    "m =np.array([[0,10],[10,0]])\n",
    "obs= np.array([[5,3],[9,2]])\n",
    "for i in range(gridmap.shape[0]):\n",
    "    for j in range(gridmap.shape[1]):\n",
    "        for k in range(m.shape[0]):\n",
    "            gridmap[i][j] *= landmark_observation_model(obs[k][0],[i,j],m[k],obs[k][1])\n",
    "print(gridmap)\n",
    "plot_map(gridmap)"
   ]
  },
  {
   "cell_type": "code",
   "execution_count": null,
   "metadata": {},
   "outputs": [],
   "source": []
  }
 ],
 "metadata": {
  "kernelspec": {
   "display_name": "Python 3.8.5 ('base')",
   "language": "python",
   "name": "python3"
  },
  "language_info": {
   "codemirror_mode": {
    "name": "ipython",
    "version": 3
   },
   "file_extension": ".py",
   "mimetype": "text/x-python",
   "name": "python",
   "nbconvert_exporter": "python",
   "pygments_lexer": "ipython3",
   "version": "3.8.5"
  },
  "vscode": {
   "interpreter": {
    "hash": "668a9a6f29a1c92e0dfeece73ec52f37babcdd4312794a01ed8162fd33e4be24"
   }
  }
 },
 "nbformat": 4,
 "nbformat_minor": 4
}
