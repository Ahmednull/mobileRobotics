{
 "cells": [
  {
   "cell_type": "markdown",
   "metadata": {},
   "source": [
    "# Exercise 1 - ICP\n",
    "\n",
    "In this exercise you will implement the ICP algorithm for a small 2D example dataset. "
   ]
  },
  {
   "cell_type": "markdown",
   "metadata": {},
   "source": [
    "## 1.1 ICP with given correspondences [5]\n",
    "\n",
    "Implement ICP if the point correspondences are given. \n",
    "A starting point for this exercise is given as follows. "
   ]
  },
  {
   "cell_type": "code",
   "execution_count": 1,
   "metadata": {},
   "outputs": [
    {
     "data": {
      "image/png": "[encoded data removed]",
      "text/plain": [
       "<Figure size 432x288 with 1 Axes>"
      ]
     },
     "metadata": {
      "needs_background": "light"
     },
     "output_type": "display_data"
    }
   ],
   "source": [
    "import ex1 as ex\n",
    "import numpy as np\n",
    "import matplotlib.pyplot as plt\n",
    "\n",
    "Data = np.load('icp_data.npz')\n",
    "Line1 = Data['LineGroundTruth']\n",
    "Line2 = Data['LineMovedCorresp']\n",
    "    \n",
    "# Show the initial positions of the lines\n",
    "ex.show_figure(Line1, Line2)"
   ]
  },
  {
   "cell_type": "markdown",
   "metadata": {},
   "source": [
    "Following the missing parts in the algorithm, you will need to: \n",
    "  - compute mean point of an array of points in function **compute_mean()**;\n",
    "  - compute cross covariance matrix **W** in **function compute_W()**;\n",
    "  - compute estimated rotation and translation via **SVD** in function **compute_R_t()**;\n",
    "  - apply the estimated rotation and translation and find the value of the squared error function to discover how good the estimated positions are in function **compute_error()**;\n",
    "  - complete the fuction **icp_known_corresp()**.\n",
    "\n",
    "Refer to the lecture slides for all the details. \n",
    "\n",
    "After you have implemented all the above, you should run the following code correctly and get the aligned Line1 and Line2."
   ]
  },
  {
   "cell_type": "code",
   "execution_count": 2,
   "metadata": {},
   "outputs": [
    {
     "data": {
      "image/png": "[encoded data removed]",
      "text/plain": [
       "<Figure size 432x288 with 1 Axes>"
      ]
     },
     "metadata": {
      "needs_background": "light"
     },
     "output_type": "display_data"
    },
    {
     "name": "stdout",
     "output_type": "stream",
     "text": [
      "Error value is:  1.6764498e-28\n"
     ]
    }
   ],
   "source": [
    "# We assume that the there are 1 to 1 correspondences for this data\n",
    "QInd = np.arange(len(Line1[0]))\n",
    "PInd = np.arange(len(Line2[0]))\n",
    "\n",
    "# Perform icp given the correspondences\n",
    "[Line2, E] = ex.icp_known_corresp(Line1, Line2, QInd, PInd)\n",
    "\n",
    "# Show the adjusted positions of the lines\n",
    "ex.show_figure(Line1, Line2)\n",
    "\n",
    "# print the error\n",
    "print('Error value is: ', E)"
   ]
  },
  {
   "cell_type": "markdown",
   "metadata": {},
   "source": [
    "## 1.2 ICP without given correspondences [5]\n",
    "\n",
    "Use the result of your code from the first question, to implement the full ICP algorithm.\n",
    "\n",
    "When the point correspondences are not available. You will need to iteratively find the point correspondences and using these perform the ICP updates. \n",
    "\n",
    "A starting point for this exercise is given as follows.\n",
    "\n",
    "Make you algorithm stop after convergence. \n",
    "\n",
    "**Hint:** The **NearestNeighbors** functions of **sklearn** library can be useful in this task."
   ]
  },
  {
   "cell_type": "code",
   "execution_count": 3,
   "metadata": {},
   "outputs": [
    {
     "data": {
      "image/png": "[encoded data removed]",
      "text/plain": [
       "<Figure size 432x288 with 1 Axes>"
      ]
     },
     "metadata": {
      "needs_background": "light"
     },
     "output_type": "display_data"
    },
    {
     "name": "stdout",
     "output_type": "stream",
     "text": [
      "Error value on 0 iteration is:  1315.0537\n",
      "Error value on 1 iteration is:  1315.0537\n",
      "Error value on 2 iteration is:  1315.0537\n",
      "Error value on 3 iteration is:  1315.0537\n",
      "Error value on 4 iteration is:  1315.0537\n",
      "Error value on 5 iteration is:  1315.0537\n",
      "Error value on 6 iteration is:  1315.0537\n",
      "Error value on 7 iteration is:  1315.0537\n",
      "Error value on 8 iteration is:  1315.0537\n",
      "Error value on 9 iteration is:  1315.0537\n",
      "Error value on 10 iteration is:  1315.0537\n",
      "Error value on 11 iteration is:  1315.0537\n",
      "Error value on 12 iteration is:  1315.0537\n",
      "Error value on 13 iteration is:  1315.0537\n",
      "Error value on 14 iteration is:  1315.0537\n",
      "Error value on 15 iteration is:  1315.0537\n",
      "Error value on 16 iteration is:  1315.0537\n",
      "Error value on 17 iteration is:  1315.0537\n",
      "Error value on 18 iteration is:  1315.0537\n",
      "Error value on 19 iteration is:  1315.0537\n",
      "Error value on 20 iteration is:  1315.0537\n",
      "Error value on 21 iteration is:  1315.0537\n",
      "Error value on 22 iteration is:  1315.0537\n",
      "Error value on 23 iteration is:  1315.0537\n",
      "Error value on 24 iteration is:  1315.0537\n",
      "Error value on 25 iteration is:  1315.0537\n",
      "Error value on 26 iteration is:  1315.0537\n",
      "Error value on 27 iteration is:  1315.0537\n",
      "Error value on 28 iteration is:  1315.0537\n",
      "Error value on 29 iteration is:  1315.0537\n",
      "Error value on 30 iteration is:  1315.0537\n",
      "Error value on 31 iteration is:  1315.0537\n",
      "Error value on 32 iteration is:  1315.0537\n",
      "Error value on 33 iteration is:  1315.0537\n",
      "Error value on 34 iteration is:  1315.0537\n",
      "Error value on 35 iteration is:  1315.0537\n",
      "Error value on 36 iteration is:  1315.0537\n",
      "Error value on 37 iteration is:  1315.0537\n",
      "Error value on 38 iteration is:  1315.0537\n",
      "Error value on 39 iteration is:  1315.0537\n",
      "Error value on 40 iteration is:  1315.0537\n",
      "Error value on 41 iteration is:  1315.0537\n",
      "Error value on 42 iteration is:  1315.0537\n",
      "Error value on 43 iteration is:  1315.0537\n",
      "Error value on 44 iteration is:  1315.0537\n",
      "Error value on 45 iteration is:  1315.0537\n",
      "Error value on 46 iteration is:  1315.0537\n",
      "Error value on 47 iteration is:  1315.0537\n",
      "Error value on 48 iteration is:  1315.0537\n",
      "Error value on 49 iteration is:  1315.0537\n",
      "Error value on 50 iteration is:  1315.0537\n",
      "Error value on 51 iteration is:  1315.0537\n",
      "Error value on 52 iteration is:  1315.0537\n",
      "Error value on 53 iteration is:  1315.0537\n",
      "Error value on 54 iteration is:  1315.0537\n",
      "Error value on 55 iteration is:  1315.0537\n",
      "Error value on 56 iteration is:  1315.0537\n",
      "Error value on 57 iteration is:  1315.0537\n",
      "Error value on 58 iteration is:  1315.0537\n",
      "Error value on 59 iteration is:  1315.0537\n",
      "Error value on 60 iteration is:  1315.0537\n",
      "Error value on 61 iteration is:  1315.0537\n",
      "Error value on 62 iteration is:  1315.0537\n",
      "Error value on 63 iteration is:  1315.0537\n",
      "Error value on 64 iteration is:  1315.0537\n",
      "Error value on 65 iteration is:  1315.0537\n",
      "Error value on 66 iteration is:  1315.0537\n",
      "Error value on 67 iteration is:  1315.0537\n",
      "Error value on 68 iteration is:  1315.0537\n",
      "Error value on 69 iteration is:  1315.0537\n",
      "Error value on 70 iteration is:  1315.0537\n",
      "Error value on 71 iteration is:  1315.0537\n",
      "Error value on 72 iteration is:  1315.0537\n",
      "Error value on 73 iteration is:  1315.0537\n",
      "Error value on 74 iteration is:  1315.0537\n",
      "Error value on 75 iteration is:  1315.0537\n",
      "Error value on 76 iteration is:  1315.0537\n",
      "Error value on 77 iteration is:  1315.0537\n",
      "Error value on 78 iteration is:  1315.0537\n",
      "Error value on 79 iteration is:  1315.0537\n",
      "Error value on 80 iteration is:  1315.0537\n",
      "Error value on 81 iteration is:  1315.0537\n",
      "Error value on 82 iteration is:  1315.0537\n",
      "Error value on 83 iteration is:  1315.0537\n",
      "Error value on 84 iteration is:  1315.0537\n",
      "Error value on 85 iteration is:  1315.0537\n",
      "Error value on 86 iteration is:  1315.0537\n",
      "Error value on 87 iteration is:  1315.0537\n",
      "Error value on 88 iteration is:  1315.0537\n",
      "Error value on 89 iteration is:  1315.0537\n",
      "Error value on 90 iteration is:  1315.0537\n",
      "Error value on 91 iteration is:  1315.0537\n",
      "Error value on 92 iteration is:  1315.0537\n",
      "Error value on 93 iteration is:  1315.0537\n",
      "Error value on 94 iteration is:  1315.0537\n",
      "Error value on 95 iteration is:  1315.0537\n",
      "Error value on 96 iteration is:  1315.0537\n",
      "Error value on 97 iteration is:  1315.0537\n",
      "Error value on 98 iteration is:  1315.0537\n",
      "Error value on 99 iteration is:  1315.0537\n"
     ]
    }
   ],
   "source": [
    "Data = np.load('icp_data.npz')\n",
    "Line1 = Data['LineGroundTruth']\n",
    "Line2 = Data['LineMovedNoCorresp']\n",
    "\n",
    "MaxIter = 100\n",
    "Epsilon = 0.001\n",
    "E = np.inf\n",
    "\n",
    "# show figure\n",
    "ex.show_figure(Line1, Line2)\n",
    "    \n",
    "for i in range(MaxIter):\n",
    "\n",
    "    # TODO: find correspondences of points\n",
    "    # point with index QInd(1, k) from Line1 corresponds to\n",
    "    # point with index PInd(1, k) from Line2\n",
    "    QInd = ...\n",
    "    PInd = ...\n",
    "\n",
    "    # update Line2 and error\n",
    "    # Now that you know the correspondences, use your implementation\n",
    "    # of icp with known correspondences and perform an update\n",
    "    EOld = E\n",
    "    [Line2, E] = ex.icp_known_corresp(Line1, Line2, QInd, PInd)\n",
    "        \n",
    "    print('Error value on ' + str(i) + ' iteration is: ', E)\n",
    "\n",
    "    # TODO: perform the check if we need to stop iterating\n",
    "    ..."
   ]
  },
  {
   "cell_type": "code",
   "execution_count": null,
   "metadata": {},
   "outputs": [],
   "source": []
  }
 ],
 "metadata": {
  "kernelspec": {
   "display_name": "Python 3.8.5 ('base')",
   "language": "python",
   "name": "python3"
  },
  "language_info": {
   "codemirror_mode": {
    "name": "ipython",
    "version": 3
   },
   "file_extension": ".py",
   "mimetype": "text/x-python",
   "name": "python",
   "nbconvert_exporter": "python",
   "pygments_lexer": "ipython3",
   "version": "3.8.5"
  },
  "vscode": {
   "interpreter": {
    "hash": "668a9a6f29a1c92e0dfeece73ec52f37babcdd4312794a01ed8162fd33e4be24"
   }
  }
 },
 "nbformat": 4,
 "nbformat_minor": 4
}
