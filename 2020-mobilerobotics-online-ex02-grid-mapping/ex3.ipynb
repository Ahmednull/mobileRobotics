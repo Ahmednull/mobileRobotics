{
 "cells": [
  {
   "cell_type": "markdown",
   "metadata": {},
   "source": [
    "# Exercise 3\n",
    "\n",
    "## Occupancy grid mapping\n",
    "\n",
    "The aim of this assignment is to implement a 2D occupancy grid mapping algorithm as described in the lecture. We provide data recorded by a robot using a 2D laser scanner in an indoor environment. \n",
    "\n",
    "The raw data is arranged in the following manner:\n",
    "\n",
    "- `poses.data`: contains the **known** robot poses as it moves around the environment. Each line corresponds to the pose of the robot at a time instant\n",
    "\n",
    "- `ranges.data`: contains 2d laser range measurements recorded by the robot. Each line corresponds to the range measurements taken from the corresponding robot poses.\n",
    "\n",
    "---\n",
    "\n",
    "### Log odds to probability\n",
    "\n",
    "The occupancy calculations are usually performed using the log odds. We will need to convert between log odds and probabilities in this exercise. Implement the `logodds2prob` and `prob2logodds` functions. Verify that the conversion functions are correct for some test input. **[2.0]**"
   ]
  },
  {
   "cell_type": "code",
   "execution_count": 1,
   "metadata": {},
   "outputs": [
    {
     "name": "stdout",
     "output_type": "stream",
     "text": [
      "1.0986122886681098\n",
      "0.75\n"
     ]
    }
   ],
   "source": [
    "from ex3 import *\n",
    "prob = 0.75\n",
    "logodds = prob2logodds(prob)\n",
    "print(logodds)\n",
    "prob = logodds2prob(logodds)\n",
    "print(prob)"
   ]
  },
  {
   "cell_type": "markdown",
   "metadata": {},
   "source": [
    "---\n",
    "### Inverse sensor model\n",
    "\n",
    "The occupancy grid mapping relies on as inverse sensor model to update the occupancy of a cell in the grid. For this exercise, we consider a simple sensor model, where the occupancy of cell $m_i$ is $P_{occ}$ if the measurement $z_t$ falls in that cell, otherwise the occupancy is $P_{free}$. \n",
    "\n",
    "However, if the cell $m_i$ is not in the perception field, the occupancy will be $P_{prior}$.\n",
    "\n",
    "Use the  following probabilities in the implementation:\n",
    "$$P_{occ} = 0.9, P_{free} = 0.35, P_{prior} = 0.5 $$\n",
    "\n",
    "Implement the inverse sensor model function and verify that it is correct for some test input. **[2.0]**"
   ]
  },
  {
   "cell_type": "code",
   "execution_count": 2,
   "metadata": {},
   "outputs": [
    {
     "name": "stdout",
     "output_type": "stream",
     "text": [
      "[[ 0.    0.    0.35]\n",
      " [ 1.    1.    0.35]\n",
      " [ 1.    2.    0.35]\n",
      " [ 2.    3.    0.35]\n",
      " [ 2.    4.    0.35]\n",
      " [ 3.    5.    0.35]\n",
      " [ 3.    6.    0.35]\n",
      " [ 4.    7.    0.35]\n",
      " [ 4.    8.    0.35]\n",
      " [ 5.    9.    0.35]\n",
      " [ 5.   10.    0.35]\n",
      " [ 6.   11.    0.35]\n",
      " [ 6.   12.    0.35]\n",
      " [ 7.   13.    0.35]\n",
      " [ 7.   14.    0.35]\n",
      " [ 8.   15.    0.35]\n",
      " [ 8.   16.    0.35]\n",
      " [ 9.   17.    0.35]\n",
      " [ 9.   18.    0.35]\n",
      " [10.   19.    0.9 ]]\n"
     ]
    }
   ],
   "source": [
    "p_occ =0.9\n",
    "p_free = 0.35\n",
    "p_prior =0.5\n",
    "\n",
    "cell = [0,0]\n",
    "endpoint =[10,19]\n",
    "inverse_sensor_model = inv_sensor_model(cell, endpoint, p_occ, p_free)\n",
    "print(inverse_sensor_model)"
   ]
  },
  {
   "cell_type": "markdown",
   "metadata": {},
   "source": [
    "---\n",
    "### Occupancy grid mapping algorithm:\n",
    "\n",
    "Implement the occupancy grid mapping algorithm as described in lecture slides. \n",
    "\n",
    "We provide some functions to make the implemntation easier.\n",
    "\n",
    "- `ranges2cells` converts the raw measurements acquired by the robot (*ranges_raw*) into the correspoding cells of the gridmap.\n",
    "- `poses2cells` converts the raw poses of the robot (*poses_raw*) into the correspoding cells of the gridmap.\n",
    "- `bresenham` returns all the cells along a straigh line between two points in the gridmap.\n",
    "\n",
    "Other parameters you may need in the implemntation are provided below.\n",
    "\n",
    "Implement the `grid_mapping_with_known_poses` functionn and compute the resulting occupancy grid map using all the measurements provided in the data.\n",
    "\n",
    "Plot the final occupancy gridmap using the `plot_gridmap` function. **[6.0]**\n"
   ]
  },
  {
   "cell_type": "code",
   "execution_count": 3,
   "metadata": {},
   "outputs": [
    {
     "data": {
      "image/png": "[encoded data removed]",
      "text/plain": [
       "<Figure size 432x288 with 1 Axes>"
      ]
     },
     "metadata": {
      "needs_background": "light"
     },
     "output_type": "display_data"
    }
   ],
   "source": [
    "import ex3\n",
    "import numpy as np\n",
    "%matplotlib inline\n",
    "\n",
    "map_size = 100\n",
    "map_res = 0.25\n",
    "\n",
    "prior = 0.50\n",
    "prob_occ = 0.90\n",
    "prob_free = 0.35\n",
    "\n",
    "# load data\n",
    "ranges_raw = np.loadtxt(\"ranges.data\", delimiter=',', dtype='float')\n",
    "poses_raw = np.loadtxt(\"poses.data\", delimiter=',', dtype='float')\n",
    "\n",
    "# initialize gridmap\n",
    "occ_gridmap = ex3.init_gridmap(map_size, map_res)+prior\n",
    "ex3.plot_gridmap(occ_gridmap)"
   ]
  },
  {
   "cell_type": "code",
   "execution_count": 4,
   "metadata": {},
   "outputs": [
    {
     "name": "stderr",
     "output_type": "stream",
     "text": [
      "C:\\Users\\Abdul Ahad\\Desktop\\Abdu\\AI for Robotics\\2020-stachnisslab-all-exercises\\2020-mobilerobotics-online-exercises\\2020-mobilerobotics-online-ex02-grid-mapping\\ex3.py:68: RuntimeWarning: overflow encountered in exp\n",
      "  prob = 1 -( 1/(1+np.exp(lx)))\n"
     ]
    }
   ],
   "source": [
    "gridmap = grid_mapping_with_known_poses(ranges_raw, poses_raw, occ_gridmap, map_res, prob_occ, prob_free, prior)"
   ]
  },
  {
   "cell_type": "code",
   "execution_count": 5,
   "metadata": {},
   "outputs": [],
   "source": [
    "%matplotlib inline"
   ]
  },
  {
   "cell_type": "code",
   "execution_count": 6,
   "metadata": {},
   "outputs": [
    {
     "data": {
      "image/png": "[encoded data removed]",
      "text/plain": [
       "<Figure size 432x288 with 1 Axes>"
      ]
     },
     "metadata": {
      "needs_background": "light"
     },
     "output_type": "display_data"
    }
   ],
   "source": [
    "ex3.plot_gridmap(gridmap)"
   ]
  }
 ],
 "metadata": {
  "kernelspec": {
   "display_name": "Python 3",
   "language": "python",
   "name": "python3"
  },
  "language_info": {
   "codemirror_mode": {
    "name": "ipython",
    "version": 3
   },
   "file_extension": ".py",
   "mimetype": "text/x-python",
   "name": "python",
   "nbconvert_exporter": "python",
   "pygments_lexer": "ipython3",
   "version": "3.7.6"
  }
 },
 "nbformat": 4,
 "nbformat_minor": 4
}
