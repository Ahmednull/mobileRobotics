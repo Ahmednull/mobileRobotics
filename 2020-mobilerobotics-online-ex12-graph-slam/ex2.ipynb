{
 "cells": [
  {
   "cell_type": "markdown",
   "metadata": {},
   "source": [
    "# Exercise 2 : Graph-based SLAM"
   ]
  },
  {
   "cell_type": "markdown",
   "metadata": {},
   "source": [
    "The goal of this assignment is to implement a least-squares based method to address the SLAM problem in its graph-based formulation as explained in the lecture. \n",
    "\n",
    "We will consider 2D poses $(x, y, \\theta)$ of the robot and 2D landmarks $(x_l, y_l)$ as the unknowns in our SLAM problem. The data is provided as a graph structure containing nodes (poses and landmarks) and constraints between these nodes (i.e pose-pose and pose-landmark). These datasets are stored as `dataset.g2o` text files. You are provided with the following datasets (see `data` folder), each of which represents the measurements of one SLAM problem.\n",
    "1. `simulation-pose-pose.g2o`: simulated measurements containing pose-pose constraints only  \n",
    "2. `simulation-pose-landmark.g2o`: simulated measurements containing both pose-pose and pose-landmark constraints\n",
    "3. `intel.g2o`: real world measurements containing pose-pose constraints only\n",
    "4. `dlr.g2o`: real world measurements containing both pose-pose and pose-landmark constraints\n",
    "\n",
    "To get started with this task, we provide some Python code which will help in loading the graph structure, visualize it and other functions that you may need. We also provide additional notes `graph-slam-notes.pdf` which explains the Jacobian computations in detail."
   ]
  },
  {
   "cell_type": "markdown",
   "metadata": {},
   "source": [
    "## Task 2.0 Understanding the graph structure\n",
    "\n",
    "Each graph consists of a set of nodes (or vertices) and edges that connect these nodes. As discussed in the lecture, the nodes correspond to the unknowns of the least-squares SLAM, whereas the edges correspond to the constraints obtained from the measurements.  In this assignment, the graph has the following types of nodes and edges:\n",
    "\n",
    "1. Nodes:\n",
    "\n",
    "    `VERTEX_SE2`: These nodes represent the 2D pose of the robot $(x, y, \\theta)$\n",
    "\n",
    "    `VERTEX_XY`: These nodes represent the 2D location of the landmark $(x_l, y_l)$\n",
    "    \n",
    "2. Edges:\n",
    "\n",
    "    `EDGE_SE2`: These edges represent a constraint between two VERTEX_SE2 nodes. We refer to these edges as pose-pose constraints.\n",
    "    \n",
    "    `EDGE_SE2_XY`: These edges represent a constraint between a VERTEX_SE2 node and a VERTEX_XY node. We refer these edges as pose-landmark edge. \n",
    "    \n",
    "\n",
    "In our code, we represent the graph as a class with the following attributes:\n",
    "1. `nodes`: A dictionary of nodes where the information of each `node` can be accessed with `nodeId` as a key. Each `node` has a unique `nodeId`. This node can be either `VERTEX_SE2` or `VERTEX_XY`. If node has a dimension of 3, it represents the pose the robot (`VERTEX_SE2`). If the node has a dimension of 2, it represents the location of landmark (`VERTEX_XY`).\n",
    "  \n",
    "    \n",
    "2. `edges`: A list of all the `edges` in the graph where each `edge` has the following attributes:\n",
    "\n",
    "`Type`: The type is 'P' if the constraint is a pose-pose constraint (`EDGE_SE2`), whereas it is 'L' of it is a pose-landmark constraint (`EDGE_SE2_XY`).\n",
    "`fromNode`: `nodeId` of the node from which the edge originates from.\n",
    "`toNode`: `nodeId` of the node to which the edge terminates to.\n",
    "`measurement`: The measurement corresponding to the edge.\n",
    "`information`: The corresponding information matrix for the edge constraint.\n",
    "    \n",
    "3. `x`: All the unknowns (node variables) are stacked into a vector. This should be used for updating the state after each iteration of the optimization.\n",
    "\n",
    "4. `lut`: This is a lookup table (implemented as a dictionary in Python). `lut[nodeId]` provides the starting location of the variables of the node with id `nodeId`.\n",
    "\n",
    "Go through the examples in the cell below to understand how to work with the graph structure. Ensure that you understand how the graph is organized. This will be neccessary to solve all the tasks in the assignment. "
   ]
  },
  {
   "cell_type": "code",
   "execution_count": 2,
   "metadata": {},
   "outputs": [
    {
     "name": "stdout",
     "output_type": "stream",
     "text": [
      "Loaded graph with 77 nodes and 297 edges\n"
     ]
    },
    {
     "data": {
      "image/png": "[encoded data removed]",
      "text/plain": [
       "<Figure size 432x288 with 1 Axes>"
      ]
     },
     "metadata": {
      "needs_background": "light"
     },
     "output_type": "display_data"
    },
    {
     "name": "stdout",
     "output_type": "stream",
     "text": [
      "Loaded graph with 77 nodes and 297 edges\n",
      "Node 128 = [ 0.378644 -0.23988  -0.0333  ] is a VERTEX_SE2 node\n",
      "Node 128 from the state vector = [ 0.378644 -0.23988  -0.0333  ]\n",
      "Node 1 = [ 8.76682 -2.35679] is a VERTEX_XY node\n",
      "Node 1 from the state vector = [ 8.76682 -2.35679]\n",
      "Edge 0 = Edge(Type='P', fromNode=100, toNode=101, measurement=array([ 0.112639,  0.023666, -1.57066 ], dtype=float32), information=array([[ 100.,    0.,    0.],\n",
      "       [   0.,  100.,    0.],\n",
      "       [   0.,    0., 1000.]], dtype=float32)) is a pose-pose constraint\n",
      "Edge 1 = Edge(Type='L', fromNode=101, toNode=4, measurement=array([0.050648, 0.357701], dtype=float32), information=array([[100.,   0.],\n",
      "       [  0., 100.]], dtype=float32)) is a pose-landmark constraint\n"
     ]
    }
   ],
   "source": [
    "import ex2 as ex\n",
    "%matplotlib inline\n",
    "\n",
    "# load a dataset \n",
    "filename = 'data/simulation-pose-landmark.g2o'\n",
    "graph = ex.read_graph_g2o(filename)\n",
    "\n",
    "# visualize the dataset\n",
    "ex.plot_graph(graph)\n",
    "print('Loaded graph with {} nodes and {} edges'.format(len(graph.nodes), len(graph.edges)))\n",
    "\n",
    "# print information for the two types of nodes\n",
    "nodeId = 128\n",
    "print('Node {} = {} is a VERTEX_SE2 node'.format(nodeId, graph.nodes[nodeId]))\n",
    "\n",
    "# access the state vector using the lookup table\n",
    "fromIdx = graph.lut[nodeId]\n",
    "print('Node {} from the state vector = {}'.format(nodeId,graph.x[fromIdx:fromIdx+3]))\n",
    "\n",
    "nodeId = 1\n",
    "print('Node {} = {} is a VERTEX_XY node'.format(nodeId, graph.nodes[nodeId]))\n",
    "\n",
    "# access the state vector using the lookup table\n",
    "fromIdx = graph.lut[nodeId]\n",
    "print('Node {} from the state vector = {}'.format(nodeId, graph.x[fromIdx:fromIdx+2]))\n",
    "\n",
    "# print information for two types of edges\n",
    "eid = 0 \n",
    "print('Edge {} = {} is a pose-pose constraint'.format(eid, graph.edges[eid]))\n",
    "\n",
    "eid = 1 \n",
    "print('Edge {} = {} is a pose-landmark constraint'.format(eid, graph.edges[eid]))"
   ]
  },
  {
   "cell_type": "markdown",
   "metadata": {},
   "source": [
    "## Task 1.2.1 Computing total error. [5]\n",
    "\n",
    "In this task, you have implement the function  `compute_global_error` function  for computing the current error value for a graph with constraints. Compute this error for all the four datasets and print the results. "
   ]
  },
  {
   "cell_type": "code",
   "execution_count": 5,
   "metadata": {},
   "outputs": [
    {
     "name": "stdout",
     "output_type": "stream",
     "text": [
      "Loaded graph with 77 nodes and 297 edges\n",
      "0\n",
      "Loaded graph with 400 nodes and 1773 edges\n",
      "0\n",
      "Loaded graph with 1728 nodes and 4830 edges\n",
      "0\n",
      "Loaded graph with 3873 nodes and 17605 edges\n",
      "0\n"
     ]
    }
   ],
   "source": [
    "\n",
    "file1 = 'data/simulation-pose-landmark.g2o'\n",
    "graph_1 = ex.read_graph_g2o(file1)\n",
    "print(ex.compute_global_error(graph_1))\n",
    "\n",
    "file2 = 'data/simulation-pose-pose.g2o'\n",
    "graph_2 = ex.read_graph_g2o(file2)\n",
    "print(ex.compute_global_error(graph_2))\n",
    "\n",
    "file3 = 'data/intel.g2o'\n",
    "graph_3 = ex.read_graph_g2o(file3)\n",
    "print(ex.compute_global_error(graph_3))\n",
    "\n",
    "file4 = 'data/dlr.g2o'\n",
    "graph_4 = ex.read_graph_g2o(file4)\n",
    "print(ex.compute_global_error(graph_4))"
   ]
  },
  {
   "cell_type": "markdown",
   "metadata": {},
   "source": [
    "## 1.2.2 Linearization of a Pose-Pose constraint [5]\n",
    "\n",
    "Since the constraint described by the edge between two pose nodes is non-linear, you need to linearize it solve the least-squares optimization. The function `linearize_pose_pose_constraint` computes the error and the Jacobian for pose-pose constraint. It takes as input: \n",
    "   \n",
    "    x1 : 3x1 vector \n",
    "         $(x,y,\\theta)$ of the first robot pose\n",
    "    x2 : 3x1 vector\n",
    "         $(x,y,\\theta)$ of the second robot pose\n",
    "    z :  3x1 vector\n",
    "         $(x,y,\\theta)$ of the measurement\n",
    "    \n",
    "and returns\n",
    "\n",
    "    e  : 3x1\n",
    "         error of the constraint\n",
    "    A  : 3x3\n",
    "         Jacobian wrt x1\n",
    "    B  : 3x3\n",
    "         Jacobian wrt x2\n",
    "\n",
    "Implement the `linearize_pose_pose_constraint` function and verify that it is correct. \n",
    "\n",
    "**Hint** : You can verify the Jacobian computation by comparing against a numerically Jacobian for your test data.\n"
   ]
  },
  {
   "cell_type": "code",
   "execution_count": null,
   "metadata": {},
   "outputs": [],
   "source": []
  },
  {
   "cell_type": "markdown",
   "metadata": {},
   "source": [
    "## 1.2.3 Linearization of a Pose-Landmark constraint [5]\n",
    "\n",
    "Since the constraint described by the edge between a pose and landmark node is non-linear, you need to linearize it solve the least-squares optimization. The function `linearize_pose_landmark_constraint` computes the error and the Jacobian for pose-landmark constraint. It takes as input: \n",
    "\n",
    "    x : 3x1 vector\n",
    "        (x,y,theta) og the robot pose\n",
    "    l : 2x1 vector\n",
    "        (x,y) of the landmark\n",
    "    z : 2x1 vector\n",
    "        (x,y) of the measurement\n",
    "    \n",
    "and returns:\n",
    "\n",
    "    e : 2x1 vector\n",
    "        error for the constraint\n",
    "    A : 2x3 Jacobian wrt x\n",
    "    B : 2x2 Jacobian wrt l\n",
    "    \n",
    "Implement the `linearize_and_solve` function and verify that it is correct. \n",
    "\n",
    "**Hint** : You can verify the Jacobian computation by comparing against a numerically Jacobian for your test data."
   ]
  },
  {
   "cell_type": "code",
   "execution_count": null,
   "metadata": {},
   "outputs": [],
   "source": []
  },
  {
   "cell_type": "markdown",
   "metadata": {},
   "source": [
    "## 1.2.4 Building and Solving Linearized System [5]\n",
    "\n",
    "The `linearize_and_solve` function builds the $H$ and $b$ matrices in order to solve for $dx$ (i.e. change in the unknowns $x$) for one iteration. The function takes as input:\n",
    "\n",
    "    g : graph at iteration i\n",
    "    \n",
    "and returns\n",
    "\n",
    "    dx : Nx1 vector \n",
    "        change in the solution for the unknowns x\n",
    "\n",
    "Implement the `linearize_and_solve` function. Some skeletal code for the function is already provided to you to start with."
   ]
  },
  {
   "cell_type": "code",
   "execution_count": null,
   "metadata": {},
   "outputs": [],
   "source": []
  },
  {
   "cell_type": "markdown",
   "metadata": {},
   "source": [
    "## 1.2.5 Iterative procedure for solving non-linear least squares [5]\n",
    "\n",
    "The `run_graph_slam` function iteratively solves the least squares problem and updates the unknowns $x$. The procedure should be terminated if the change in $|dx| < 10^-4$ or the until a maximum number of iterations  (maxIter = 100) is reached. \n",
    "\n",
    "Implement the function `run_graph_slam` to perform the optimization. Some hints are provided as comments in the function. Test the function on the `simulation-pose-pose.g2o` and `simulation-pose-landmark.g2o` datasets. "
   ]
  },
  {
   "cell_type": "code",
   "execution_count": null,
   "metadata": {},
   "outputs": [],
   "source": []
  },
  {
   "cell_type": "markdown",
   "metadata": {},
   "source": [
    "## 1.2.6 Results for different datasets [5]\n",
    "\n",
    "Evaluate the results of the graph-slam algorithm for all the four datasets. \n",
    "\n",
    "1. Create a `gif` animation visualing the results after each iteration. \n",
    "2. Plot the error vs iterations for all the datasets.\n",
    "\n",
    "Please run your code locally and upload the `gifs` generated from your results in the cell below."
   ]
  },
  {
   "cell_type": "code",
   "execution_count": null,
   "metadata": {},
   "outputs": [],
   "source": []
  }
 ],
 "metadata": {
  "kernelspec": {
   "display_name": "Python 3.8.10 64-bit",
   "language": "python",
   "name": "python3"
  },
  "language_info": {
   "codemirror_mode": {
    "name": "ipython",
    "version": 3
   },
   "file_extension": ".py",
   "mimetype": "text/x-python",
   "name": "python",
   "nbconvert_exporter": "python",
   "pygments_lexer": "ipython3",
   "version": "3.8.10"
  },
  "vscode": {
   "interpreter": {
    "hash": "e7370f93d1d0cde622a1f8e1c04877d8463912d04d973331ad4851f04de6915a"
   }
  }
 },
 "nbformat": 4,
 "nbformat_minor": 4
}
